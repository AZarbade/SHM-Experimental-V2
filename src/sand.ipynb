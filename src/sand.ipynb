{
 "cells": [
  {
   "cell_type": "code",
   "execution_count": 1,
   "metadata": {},
   "outputs": [],
   "source": [
    "import numpy as np\n",
    "import pandas as pd\n",
    "import torch\n",
    "import torch.nn as nn\n",
    "import torch.optim as optim\n",
    "from torch.utils.data import DataLoader, TensorDataset\n",
    "import matplotlib.pyplot as plt\n",
    "import scienceplots\n",
    "from tqdm import tqdm\n",
    "import time\n",
    "\n",
    "from util import DampedHarmonicOscillatorDataset, simple_nn, create_tensors\n",
    "\n",
    "plt.style.use(['science', 'ieee'])\n",
    "torch.manual_seed(1024)\n",
    "device = 'cuda' if torch.cuda.is_available() else 'cpu'\n",
    "torch.device(device)\n",
    "\n",
    "# Model settings\n",
    "supervised = True\n",
    "if supervised == True:\n",
    "    model_name = f\"supervised_pinn\"\n",
    "else:\n",
    "    model_name = f\"unsupervised_pinn\"\n",
    "num_epochs = 200_000\n",
    "learning_rate = 1e-3\n",
    "patience = 1000  # Number of epochs to wait for loss improvement\n",
    "\n",
    "# Parameters\n",
    "k_values = [100, 200, 300, 400, 500] # spring constant (N/m)\n",
    "c_values = [2, 4, 6, 8, 10] # damping constant (N.s/m)\n",
    "m_values = [0.5, 1.0, 1.5, 2.0, 2.5] # load mass (kg)\n",
    "t_range = (0.0, 1.0) # time domin (sec)\n",
    "num_samples = 1000\n",
    "num_train_sets = 5  # Number of training sets to generate\n",
    "\n",
    "# Create the dataset class instance\n",
    "dataset = DampedHarmonicOscillatorDataset(k_values, c_values, m_values, t_range, num_samples)\n",
    "# Generate training sets\n",
    "training_sets = dataset.generate_training_sets(num_train_sets)\n",
    "test_set = (500, 10, 2.5)\n",
    "test_dataset = dataset.generate_testing_set(*test_set)"
   ]
  }
 ],
 "metadata": {
  "kernelspec": {
   "display_name": "base",
   "language": "python",
   "name": "python3"
  },
  "language_info": {
   "codemirror_mode": {
    "name": "ipython",
    "version": 3
   },
   "file_extension": ".py",
   "mimetype": "text/x-python",
   "name": "python",
   "nbconvert_exporter": "python",
   "pygments_lexer": "ipython3",
   "version": "3.8.12"
  },
  "orig_nbformat": 4
 },
 "nbformat": 4,
 "nbformat_minor": 2
}
