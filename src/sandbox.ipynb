{
 "cells": [
  {
   "cell_type": "code",
   "execution_count": null,
   "metadata": {},
   "outputs": [],
   "source": [
    "import torch\n",
    "import matplotlib.pyplot as plt\n",
    "import scienceplots\n",
    "import time\n",
    "\n",
    "from util import DHO_Dataset\n",
    "from util import SimpleNetwork, PhysicsInformedNN\n",
    "from util import plot_loss\n",
    "\n",
    "plt.style.use(['science', 'ieee'])\n",
    "torch.manual_seed(1024)\n",
    "device = 'cuda' if torch.cuda.is_available() else 'cpu'\n",
    "torch.device(device)\n",
    "\n",
    "# Model settings\n",
    "supervised = True\n",
    "if supervised == True:\n",
    "    model_name = f\"supervised_pinn\"\n",
    "else:\n",
    "    model_name = f\"unsupervised_pinn\"\n",
    "num_epochs = 200_000\n",
    "learning_rate = 1e-3\n",
    "patience = 100  # Number of epochs to wait for loss improvement\n",
    "\n",
    "# Parameters\n",
    "k_values = [100, 200, 300, 400, 500] # spring constant (N/m)\n",
    "c_values = [2, 4, 6, 8, 10] # damping constant (N.s/m)\n",
    "m_values = [0.5, 1.0, 1.5, 2.0, 2.5] # load mass (kg)\n",
    "t_range = (0.0, 1.0) # time domin (sec)\n",
    "num_samples = 100\n",
    "num_train_sets = 5  # Number of training sets to generate\n",
    "test_set = (500, 10, 2.5)"
   ]
  },
  {
   "cell_type": "code",
   "execution_count": null,
   "metadata": {},
   "outputs": [],
   "source": [
    "dataset = DHO_Dataset(k_values, c_values, m_values, t_range, num_samples)\n",
    "training_sets = dataset.generate_training_sets(5)\n",
    "test_dataset = dataset.generate_testing_set(*test_set)\n",
    "features, labels = dataset.PreprocessData(training_sets)\n",
    "features_tensor, labels_tensor = dataset.CreateTensor(features, labels, device)\n",
    "test_features, test_labels = dataset.PreprocessData(test_dataset)\n",
    "test_features_tensor, test_labels_tensor = dataset.CreateTensor(test_features, test_labels, device)"
   ]
  },
  {
   "cell_type": "code",
   "execution_count": null,
   "metadata": {},
   "outputs": [],
   "source": [
    "dataset.plot_training_dataset(training_sets)\n",
    "dataset.plot_testing_dataset(test_dataset)"
   ]
  },
  {
   "cell_type": "code",
   "execution_count": null,
   "metadata": {},
   "outputs": [],
   "source": [
    "# Create the neural network model and instantiate the PhysicsInformedNN class\n",
    "model = SimpleNetwork(4, 1, 32, 8).to(device)\n",
    "physics_nn = PhysicsInformedNN(model, supervised=supervised)\n",
    "\n",
    "# Measure execution time for training and evaluation\n",
    "start_time = time.time()\n",
    "loss_log, test_loss = physics_nn.train_and_evaluate(\n",
    "    features_tensor, labels_tensor, test_features_tensor, test_labels_tensor,\n",
    "    num_epochs, learning_rate, evaluation_interval=100, patience=patience)\n",
    "\n",
    "end_time = time.time()\n",
    "\n",
    "# Calculate and print the execution time\n",
    "execution_time = end_time - start_time\n",
    "print(f\"Execution time: {execution_time:.2f} seconds\")"
   ]
  },
  {
   "cell_type": "code",
   "execution_count": null,
   "metadata": {},
   "outputs": [],
   "source": [
    "print(f\"Testing Loss: {test_loss['loss'][-1]:.4f}\")\n",
    "print(f\"Training Loss: {loss_log['loss'][-1]:.4f}\")\n",
    "plot_loss(loss_log, test_loss)"
   ]
  }
 ],
 "metadata": {
  "kernelspec": {
   "display_name": "base",
   "language": "python",
   "name": "python3"
  },
  "language_info": {
   "codemirror_mode": {
    "name": "ipython",
    "version": 3
   },
   "file_extension": ".py",
   "mimetype": "text/x-python",
   "name": "python",
   "nbconvert_exporter": "python",
   "pygments_lexer": "ipython3",
   "version": "3.8.12"
  },
  "orig_nbformat": 4
 },
 "nbformat": 4,
 "nbformat_minor": 2
}
